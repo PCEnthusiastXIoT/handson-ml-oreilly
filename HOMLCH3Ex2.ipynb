{
 "cells": [
  {
   "cell_type": "markdown",
   "id": "1e1380dc",
   "metadata": {},
   "source": [
    "## Exercise 2\n",
    "\n",
    "---\n",
    "\n",
    "**Task: write a function to shift an MNIST image 1 pixel any direction. Create 4 shifted copies per image in the training set and train a model on this.**\n",
    "\n",
    "I'm going to create the function, and then use a loop to call it over the training set and create an augmented training set from that"
   ]
  },
  {
   "cell_type": "code",
   "execution_count": 1,
   "id": "2cc3a054",
   "metadata": {},
   "outputs": [],
   "source": [
    "from sklearn.datasets import fetch_openml\n",
    "\n",
    "mnist = fetch_openml('mnist_784', as_frame=False)"
   ]
  },
  {
   "cell_type": "code",
   "execution_count": 2,
   "id": "face4383",
   "metadata": {},
   "outputs": [],
   "source": [
    "from scipy.ndimage import interpolation\n",
    "\n",
    "# function should shift the one dimensional array from the mnist set\n",
    "# If it were necessary, it could be rewritten to scale based on the image width\n",
    "# The mnist set is only 28x28 though so I'm not going to here.\n",
    "def shift_mnist(image, direction=0):\n",
    "    # Tuple to enforce order, the NESW values necessary to shift a 1d array\n",
    "    cardinals = (-28, 1, 28, -1)\n",
    "    return interpolation.shift(image, cardinals[direction], cval=0.0)"
   ]
  },
  {
   "cell_type": "code",
   "execution_count": 10,
   "id": "c2dde845",
   "metadata": {},
   "outputs": [],
   "source": [
    "import numpy as np\n",
    "# I want to be able to pass in the mnist set, and get back the same set but with all the extra images\n",
    "# Challenge is also making sure to correctly add the labels\n",
    "def augment_mnist(data, targets):\n",
    "    # First, go through every image in dataset\n",
    "    list_data = data.tolist()\n",
    "    list_targets = targets.tolist()\n",
    "    loops = len(list_data)\n",
    "    for i in range(0,loops):\n",
    "\n",
    "        for j in range(0,4):\n",
    "            # each image gets shifted 4 times and deposited\n",
    "            list_data.append(shift_mnist(list_data[i],j))\n",
    "            # np.put(data, len(data), shift_mnist(image, i))\n",
    "            # every time we add an image to the dataset, we also need to put it's label in the targets\n",
    "            list_targets.append(list_targets[i])\n",
    "            # np.put(targets, len(targets), targets[data.index(image)])\n",
    "    return np.array(list_data), np.array(list_targets)\n"
   ]
  },
  {
   "cell_type": "markdown",
   "id": "0ec67028",
   "metadata": {},
   "source": [
    "Now that functions have been defined, I need to do some data prep."
   ]
  },
  {
   "cell_type": "code",
   "execution_count": 4,
   "id": "bc9d08dd",
   "metadata": {},
   "outputs": [],
   "source": [
    "X, y = mnist.data, mnist.target"
   ]
  },
  {
   "cell_type": "code",
   "execution_count": 5,
   "id": "d38f7c66",
   "metadata": {},
   "outputs": [
    {
     "data": {
      "text/plain": [
       "(70000, 784)"
      ]
     },
     "execution_count": 5,
     "metadata": {},
     "output_type": "execute_result"
    }
   ],
   "source": [
    "X.shape"
   ]
  },
  {
   "cell_type": "code",
   "execution_count": 6,
   "id": "ab7a2db1",
   "metadata": {},
   "outputs": [
    {
     "data": {
      "text/plain": [
       "(784,)"
      ]
     },
     "execution_count": 6,
     "metadata": {},
     "output_type": "execute_result"
    }
   ],
   "source": [
    "X[0].shape"
   ]
  },
  {
   "cell_type": "markdown",
   "id": "8cefe5a1",
   "metadata": {},
   "source": [
    "*Using book code to render a digit. Leaving axes on to make it easier to notice the shift.*"
   ]
  },
  {
   "cell_type": "code",
   "execution_count": 7,
   "id": "8884d61e",
   "metadata": {
    "scrolled": true
   },
   "outputs": [
    {
     "data": {
      "image/png": "[encoded data removed]",
      "text/plain": [
       "<Figure size 432x288 with 1 Axes>"
      ]
     },
     "metadata": {
      "needs_background": "light"
     },
     "output_type": "display_data"
    }
   ],
   "source": [
    "import matplotlib.pyplot as plt\n",
    "\n",
    "def plot_digit(image_data):\n",
    "    image = image_data.reshape(28,28)\n",
    "    plt.imshow(image, cmap=\"binary\")\n",
    "    \n",
    "some_digit = X[0]\n",
    "plot_digit(some_digit)\n",
    "plt.show()"
   ]
  },
  {
   "cell_type": "code",
   "execution_count": 8,
   "id": "c438f6cd",
   "metadata": {},
   "outputs": [
    {
     "data": {
      "image/png": "[encoded data removed]",
      "text/plain": [
       "<Figure size 432x288 with 1 Axes>"
      ]
     },
     "metadata": {
      "needs_background": "light"
     },
     "output_type": "display_data"
    }
   ],
   "source": [
    "shifted_digit = shift_mnist(some_digit, 3)\n",
    "plot_digit(shifted_digit)\n",
    "plt.show()"
   ]
  },
  {
   "cell_type": "code",
   "execution_count": 11,
   "id": "466bebac",
   "metadata": {},
   "outputs": [
    {
     "data": {
      "text/plain": [
       "(300000, 784)"
      ]
     },
     "execution_count": 11,
     "metadata": {},
     "output_type": "execute_result"
    }
   ],
   "source": [
    "# Going to split the data now, then augment it. Fingers crossed!\n",
    "X_train, y_train = X[:60000], y[:60000]\n",
    "X_test, y_test = X[60000:], y[60000:]\n",
    "\n",
    "aug_X_train, aug_y_train = augment_mnist(X_train, y_train)\n",
    "\n",
    "aug_X_train.shape"
   ]
  },
  {
   "cell_type": "code",
   "execution_count": 13,
   "id": "ac4efa44",
   "metadata": {},
   "outputs": [
    {
     "data": {
      "text/plain": [
       "(300000,)"
      ]
     },
     "execution_count": 13,
     "metadata": {},
     "output_type": "execute_result"
    }
   ],
   "source": [
    "aug_y_train.shape"
   ]
  },
  {
   "cell_type": "markdown",
   "id": "52272b0a",
   "metadata": {},
   "source": [
    "## Time to start working on a classifier"
   ]
  },
  {
   "cell_type": "code",
   "execution_count": 14,
   "id": "a29105cf",
   "metadata": {},
   "outputs": [],
   "source": [
    "# shuffling the data now\n",
    "def shuffle(X_data, y_data):\n",
    "    temp_X = X_data\n",
    "    temp_y = y_data\n",
    "    \n",
    "    shuffler = np.random.permutation(len(X_data))\n",
    "    X_shuffled = temp_X[shuffler]\n",
    "    y_shuffled = temp_y[shuffler]\n",
    "    return X_shuffled, y_shuffled"
   ]
  },
  {
   "cell_type": "code",
   "execution_count": 15,
   "id": "a1d067a1",
   "metadata": {},
   "outputs": [],
   "source": [
    "shuf_train_X, shuf_train_y = shuffle(aug_X_train, aug_y_train)"
   ]
  },
  {
   "cell_type": "code",
   "execution_count": 18,
   "id": "6f635cfe",
   "metadata": {},
   "outputs": [
    {
     "data": {
      "image/png": "[encoded data removed]",
      "text/plain": [
       "<Figure size 432x288 with 1 Axes>"
      ]
     },
     "metadata": {
      "needs_background": "light"
     },
     "output_type": "display_data"
    }
   ],
   "source": [
    "# peeking a bit to verify some things\n",
    "first_digit = shuf_train_X[0]\n",
    "plot_digit(first_digit)\n",
    "plt.show()"
   ]
  },
  {
   "cell_type": "code",
   "execution_count": 19,
   "id": "ddefc61a",
   "metadata": {},
   "outputs": [
    {
     "data": {
      "text/plain": [
       "'4'"
      ]
     },
     "execution_count": 19,
     "metadata": {},
     "output_type": "execute_result"
    }
   ],
   "source": [
    "shuf_train_y[0]"
   ]
  },
  {
   "cell_type": "code",
   "execution_count": 20,
   "id": "bf89de2d",
   "metadata": {},
   "outputs": [
    {
     "data": {
      "text/plain": [
       "KNeighborsClassifier()"
      ]
     },
     "execution_count": 20,
     "metadata": {},
     "output_type": "execute_result"
    }
   ],
   "source": [
    "# start the KNN training process\n",
    "from sklearn.neighbors import KNeighborsClassifier\n",
    "from sklearn.model_selection import cross_val_score, GridSearchCV\n",
    "\n",
    "knn_class = KNeighborsClassifier()\n",
    "knn_class.fit(shuf_train_X, shuf_train_y)"
   ]
  },
  {
   "cell_type": "code",
   "execution_count": 21,
   "id": "561805d9",
   "metadata": {},
   "outputs": [
    {
     "data": {
      "text/plain": [
       "array([0.97822, 0.97949, 0.97965])"
      ]
     },
     "execution_count": 21,
     "metadata": {},
     "output_type": "execute_result"
    }
   ],
   "source": [
    "# Biting the time bullet, going to give a prelim cross-validation score\n",
    "cross_val_score(knn_class, shuf_train_X, shuf_train_y, cv=3, scoring=\"accuracy\")"
   ]
  },
  {
   "cell_type": "code",
   "execution_count": null,
   "id": "bfb56b08",
   "metadata": {},
   "outputs": [],
   "source": []
  }
 ],
 "metadata": {
  "kernelspec": {
   "display_name": "Python 3 (ipykernel)",
   "language": "python",
   "name": "python3"
  },
  "language_info": {
   "codemirror_mode": {
    "name": "ipython",
    "version": 3
   },
   "file_extension": ".py",
   "mimetype": "text/x-python",
   "name": "python",
   "nbconvert_exporter": "python",
   "pygments_lexer": "ipython3",
   "version": "3.8.12"
  }
 },
 "nbformat": 4,
 "nbformat_minor": 5
}
