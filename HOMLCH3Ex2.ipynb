{
 "cells": [
  {
   "cell_type": "markdown",
   "id": "3b79a245",
   "metadata": {},
   "source": [
    "## Exercise 2\n",
    "\n",
    "---\n",
    "\n",
    "**Task: write a function to shift an MNIST image 1 pixel any direction. Create 4 shifted copies per image in the training set and train a model on this.**\n",
    "\n",
    "I'm going to create the function, and then use a loop to call it over the training set and create an augmented training set from that"
   ]
  },
  {
   "cell_type": "code",
   "execution_count": 1,
   "id": "2cc3a054",
   "metadata": {},
   "outputs": [],
   "source": [
    "from sklearn.datasets import fetch_openml\n",
    "\n",
    "mnist = fetch_openml('mnist_784', as_frame=False)"
   ]
  },
  {
   "cell_type": "code",
   "execution_count": 2,
   "id": "face4383",
   "metadata": {},
   "outputs": [],
   "source": [
    "from scipy.ndimage import interpolation\n",
    "\n",
    "# function should shift the one dimensional array from the mnist set\n",
    "# If it were necessary, it could be rewritten to scale based on the image width\n",
    "# The mnist set is only 28x28 though so I'm not going to here.\n",
    "def shift_mnist(image, direction=0):\n",
    "    # Tuple to enforce order, the NESW values necessary to shift a 1d array\n",
    "    cardinals = (-28, 1, 28, -1)\n",
    "    return interpolation.shift(image, cardinals[direction], cval=0.0)"
   ]
  },
  {
   "cell_type": "code",
   "execution_count": 3,
   "id": "e005699c",
   "metadata": {},
   "outputs": [],
   "source": [
    "import numpy as np\n",
    "# I want to be able to pass in the mnist set, and get back the same set but with all the extra images\n",
    "# Challenge is also making sure to correctly add the labels\n",
    "def augment_mnist(data, targets):\n",
    "    # First, go through every image in dataset\n",
    "    list_data = data.tolist()\n",
    "    list_targets = targets.tolist()\n",
    "    loops = len(list_data)\n",
    "    for i in range(0,loops):\n",
    "\n",
    "        for j in range(0,4):\n",
    "            # each image gets shifted 4 times and deposited\n",
    "            list_data.append(shift_mnist(list_data[i],j))\n",
    "            # np.put(data, len(data), shift_mnist(image, i))\n",
    "            # every time we add an image to the dataset, we also need to put it's label in the targets\n",
    "            list_targets.append(list_targets[i])\n",
    "            # np.put(targets, len(targets), targets[data.index(image)])\n",
    "    return np.array(list_data), np.array(list_targets)\n"
   ]
  },
  {
   "cell_type": "markdown",
   "id": "c1ef2bf4",
   "metadata": {},
   "source": [
    "Now that functions have been defined, I need to do some data prep."
   ]
  },
  {
   "cell_type": "code",
   "execution_count": 4,
   "id": "44d71750",
   "metadata": {},
   "outputs": [],
   "source": [
    "X, y = mnist.data, mnist.target"
   ]
  },
  {
   "cell_type": "code",
   "execution_count": 5,
   "id": "0cb6bdb2",
   "metadata": {},
   "outputs": [
    {
     "data": {
      "text/plain": [
       "(70000, 784)"
      ]
     },
     "execution_count": 5,
     "metadata": {},
     "output_type": "execute_result"
    }
   ],
   "source": [
    "X.shape"
   ]
  },
  {
   "cell_type": "code",
   "execution_count": 6,
   "id": "7c75a187",
   "metadata": {},
   "outputs": [
    {
     "data": {
      "text/plain": [
       "(784,)"
      ]
     },
     "execution_count": 6,
     "metadata": {},
     "output_type": "execute_result"
    }
   ],
   "source": [
    "X[0].shape"
   ]
  },
  {
   "cell_type": "markdown",
   "id": "8c5f8b9c",
   "metadata": {},
   "source": [
    "*Using book code to render a digit. Leaving axes on to make it easier to notice the shift.*"
   ]
  },
  {
   "cell_type": "code",
   "execution_count": 7,
   "id": "acd9ef38",
   "metadata": {
    "scrolled": true
   },
   "outputs": [
    {
     "data": {
      "image/png": "[encoded data removed]",
      "text/plain": [
       "<Figure size 432x288 with 1 Axes>"
      ]
     },
     "metadata": {
      "needs_background": "light"
     },
     "output_type": "display_data"
    }
   ],
   "source": [
    "import matplotlib.pyplot as plt\n",
    "\n",
    "def plot_digit(image_data):\n",
    "    image = image_data.reshape(28,28)\n",
    "    plt.imshow(image, cmap=\"binary\")\n",
    "    \n",
    "some_digit = X[0]\n",
    "plot_digit(some_digit)\n",
    "plt.show()"
   ]
  },
  {
   "cell_type": "code",
   "execution_count": 8,
   "id": "0cece6bc",
   "metadata": {},
   "outputs": [
    {
     "data": {
      "image/png": "[encoded data removed]",
      "text/plain": [
       "<Figure size 432x288 with 1 Axes>"
      ]
     },
     "metadata": {
      "needs_background": "light"
     },
     "output_type": "display_data"
    }
   ],
   "source": [
    "shifted_digit = shift_mnist(some_digit, 3)\n",
    "plot_digit(shifted_digit)\n",
    "plt.show()"
   ]
  },
  {
   "cell_type": "code",
   "execution_count": 9,
   "id": "1e68a8b3",
   "metadata": {},
   "outputs": [
    {
     "data": {
      "text/plain": [
       "(300000, 784)"
      ]
     },
     "execution_count": 9,
     "metadata": {},
     "output_type": "execute_result"
    }
   ],
   "source": [
    "# Going to split the data now, then augment it. Fingers crossed!\n",
    "X_train, y_train = X[:60000], y[:60000]\n",
    "X_test, y_test = X[60000:], y[60000:]\n",
    "\n",
    "aug_X_train, aug_y_train = augment_mnist(X_train, y_train)\n",
    "\n",
    "aug_X_train.shape"
   ]
  },
  {
   "cell_type": "code",
   "execution_count": 10,
   "id": "a29a41fe",
   "metadata": {},
   "outputs": [
    {
     "data": {
      "text/plain": [
       "(300000,)"
      ]
     },
     "execution_count": 10,
     "metadata": {},
     "output_type": "execute_result"
    }
   ],
   "source": [
    "aug_y_train.shape"
   ]
  },
  {
   "cell_type": "markdown",
   "id": "bea7d862",
   "metadata": {},
   "source": [
    "## Time to start working on a classifier"
   ]
  },
  {
   "cell_type": "code",
   "execution_count": 11,
   "id": "bce6e12b",
   "metadata": {},
   "outputs": [],
   "source": [
    "# shuffling the data now\n",
    "def shuffle(X_data, y_data):\n",
    "    temp_X = X_data\n",
    "    temp_y = y_data\n",
    "    \n",
    "    shuffler = np.random.permutation(len(X_data))\n",
    "    X_shuffled = temp_X[shuffler]\n",
    "    y_shuffled = temp_y[shuffler]\n",
    "    return X_shuffled, y_shuffled"
   ]
  },
  {
   "cell_type": "code",
   "execution_count": 12,
   "id": "bba8b91f",
   "metadata": {},
   "outputs": [],
   "source": [
    "shuf_train_X, shuf_train_y = shuffle(aug_X_train, aug_y_train)"
   ]
  },
  {
   "cell_type": "code",
   "execution_count": 13,
   "id": "7829d932",
   "metadata": {},
   "outputs": [
    {
     "data": {
      "image/png": "[encoded data removed]",
      "text/plain": [
       "<Figure size 432x288 with 1 Axes>"
      ]
     },
     "metadata": {
      "needs_background": "light"
     },
     "output_type": "display_data"
    }
   ],
   "source": [
    "# peeking a bit to verify some things\n",
    "first_digit = shuf_train_X[0]\n",
    "plot_digit(first_digit)\n",
    "plt.show()"
   ]
  },
  {
   "cell_type": "code",
   "execution_count": 14,
   "id": "99eb0761",
   "metadata": {},
   "outputs": [
    {
     "data": {
      "text/plain": [
       "'1'"
      ]
     },
     "execution_count": 14,
     "metadata": {},
     "output_type": "execute_result"
    }
   ],
   "source": [
    "shuf_train_y[0]"
   ]
  },
  {
   "cell_type": "code",
   "execution_count": 15,
   "id": "1b347e49",
   "metadata": {},
   "outputs": [
    {
     "data": {
      "text/plain": [
       "KNeighborsClassifier()"
      ]
     },
     "execution_count": 15,
     "metadata": {},
     "output_type": "execute_result"
    }
   ],
   "source": [
    "# start the KNN training process\n",
    "from sklearn.neighbors import KNeighborsClassifier\n",
    "from sklearn.model_selection import cross_val_score, GridSearchCV\n",
    "\n",
    "knn_class = KNeighborsClassifier()\n",
    "knn_class.fit(shuf_train_X, shuf_train_y)"
   ]
  },
  {
   "cell_type": "code",
   "execution_count": 16,
   "id": "35b82f07",
   "metadata": {},
   "outputs": [
    {
     "data": {
      "text/plain": [
       "array([0.97948, 0.97908, 0.97963])"
      ]
     },
     "execution_count": 16,
     "metadata": {},
     "output_type": "execute_result"
    }
   ],
   "source": [
    "# Biting the time bullet, going to give a prelim cross-validation score\n",
    "cross_val_score(knn_class, shuf_train_X, shuf_train_y, cv=3, scoring=\"accuracy\")"
   ]
  },
  {
   "cell_type": "code",
   "execution_count": 17,
   "id": "7dce6fb5",
   "metadata": {},
   "outputs": [
    {
     "data": {
      "text/plain": [
       "GridSearchCV(estimator=KNeighborsClassifier(),\n",
       "             param_grid={'n_neighbors': [3, 4, 5, 6],\n",
       "                         'weights': ('uniform', 'distance')})"
      ]
     },
     "execution_count": 17,
     "metadata": {},
     "output_type": "execute_result"
    }
   ],
   "source": [
    "param_grid = {'n_neighbors':[3,4,5,6],'weights':('uniform','distance')}\n",
    "\n",
    "grid_search = GridSearchCV(knn_class, param_grid=param_grid)\n",
    "grid_search.fit(shuf_train_X, shuf_train_y)"
   ]
  },
  {
   "cell_type": "code",
   "execution_count": 18,
   "id": "6109f923",
   "metadata": {},
   "outputs": [
    {
     "data": {
      "text/plain": [
       "{'n_neighbors': 4, 'weights': 'distance'}"
      ]
     },
     "execution_count": 18,
     "metadata": {},
     "output_type": "execute_result"
    }
   ],
   "source": [
    "grid_search.best_params_"
   ]
  },
  {
   "cell_type": "code",
   "execution_count": 19,
   "id": "62cc192a",
   "metadata": {},
   "outputs": [
    {
     "data": {
      "text/plain": [
       "KNeighborsClassifier(n_neighbors=4, weights='distance')"
      ]
     },
     "execution_count": 19,
     "metadata": {},
     "output_type": "execute_result"
    }
   ],
   "source": [
    "best_knn = KNeighborsClassifier(n_neighbors=4,weights='distance')\n",
    "best_knn.fit(shuf_train_X, shuf_train_y)\n"
   ]
  },
  {
   "cell_type": "code",
   "execution_count": 22,
   "id": "faaf4439",
   "metadata": {},
   "outputs": [],
   "source": [
    "from sklearn.model_selection import cross_val_predict\n",
    "\n",
    "y_train_prediction = cross_val_predict(best_knn, shuf_train_X, shuf_train_y, cv=3)"
   ]
  },
  {
   "cell_type": "code",
   "execution_count": 28,
   "id": "49f28590",
   "metadata": {},
   "outputs": [
    {
     "data": {
      "text/plain": [
       "0.9835643368510978"
      ]
     },
     "execution_count": 28,
     "metadata": {},
     "output_type": "execute_result"
    }
   ],
   "source": [
    "from sklearn.metrics import f1_score\n",
    "\n",
    "f1_score(shuf_train_y, y_train_prediction, average=\"macro\")"
   ]
  },
  {
   "cell_type": "code",
   "execution_count": 25,
   "id": "f0348935",
   "metadata": {},
   "outputs": [
    {
     "data": {
      "image/png": "[encoded data removed]",
      "text/plain": [
       "<Figure size 432x288 with 2 Axes>"
      ]
     },
     "metadata": {
      "needs_background": "light"
     },
     "output_type": "display_data"
    }
   ],
   "source": [
    "from sklearn.metrics import ConfusionMatrixDisplay\n",
    "\n",
    "ConfusionMatrixDisplay.from_predictions(shuf_train_y, y_train_prediction, normalize=\"true\", values_format=\".0%\")\n",
    "plt.show()"
   ]
  },
  {
   "cell_type": "markdown",
   "id": "bd543911",
   "metadata": {},
   "source": [
    "# Finished! \n",
    "As you can see, our training set after augmenting and run with the best hyperparameters is over 10% better at 3's and 5's particularly. This was the training set though, so now it's time to do a good test with the test set."
   ]
  },
  {
   "cell_type": "code",
   "execution_count": 29,
   "id": "4a25bd60",
   "metadata": {},
   "outputs": [],
   "source": [
    "final_predict = best_knn.predict(X_test)\n",
    "results = best_knn.score(X_test, y_test)"
   ]
  },
  {
   "cell_type": "code",
   "execution_count": 30,
   "id": "00e92077",
   "metadata": {},
   "outputs": [
    {
     "data": {
      "text/plain": [
       "0.9763"
      ]
     },
     "execution_count": 30,
     "metadata": {},
     "output_type": "execute_result"
    }
   ],
   "source": [
    "results"
   ]
  },
  {
   "cell_type": "code",
   "execution_count": 31,
   "id": "7e79d428",
   "metadata": {},
   "outputs": [
    {
     "data": {
      "image/png": "[encoded data removed]",
      "text/plain": [
       "<Figure size 432x288 with 2 Axes>"
      ]
     },
     "metadata": {
      "needs_background": "light"
     },
     "output_type": "display_data"
    }
   ],
   "source": [
    "ConfusionMatrixDisplay.from_predictions(y_test, final_predict, normalize=\"true\", values_format=\".0%\")\n",
    "plt.show()"
   ]
  },
  {
   "cell_type": "markdown",
   "id": "5a470d9b",
   "metadata": {},
   "source": [
    "As you can see, the test set performed a little lower than the train set did. However, scores are still quite good considering this was the real test!"
   ]
  },
  {
   "cell_type": "code",
   "execution_count": null,
   "id": "d8ef60cc",
   "metadata": {},
   "outputs": [],
   "source": []
  }
 ],
 "metadata": {
  "kernelspec": {
   "display_name": "Python 3 (ipykernel)",
   "language": "python",
   "name": "python3"
  },
  "language_info": {
   "codemirror_mode": {
    "name": "ipython",
    "version": 3
   },
   "file_extension": ".py",
   "mimetype": "text/x-python",
   "name": "python",
   "nbconvert_exporter": "python",
   "pygments_lexer": "ipython3",
   "version": "3.8.12"
  }
 },
 "nbformat": 4,
 "nbformat_minor": 5
}
